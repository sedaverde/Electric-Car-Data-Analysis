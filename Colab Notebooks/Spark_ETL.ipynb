{
  "nbformat": 4,
  "nbformat_minor": 0,
  "metadata": {
    "colab": {
      "name": "Spark ETL.ipynb",
      "provenance": [],
      "collapsed_sections": []
    },
    "kernelspec": {
      "name": "python3",
      "display_name": "Python 3"
    },
    "language_info": {
      "name": "python"
    }
  },
  "cells": [
    {
      "cell_type": "code",
      "execution_count": 1,
      "metadata": {
        "colab": {
          "base_uri": "https://localhost:8080/"
        },
        "id": "GJFCv70hclrO",
        "outputId": "49b26aba-e14c-4330-ec7e-a940255fb54d"
      },
      "outputs": [
        {
          "output_type": "stream",
          "name": "stdout",
          "text": [
            "\r0% [Working]\r            \rGet:1 https://cloud.r-project.org/bin/linux/ubuntu bionic-cran40/ InRelease [3,626 B]\n",
            "\r0% [Connecting to archive.ubuntu.com] [Connecting to security.ubuntu.com (91.18\r0% [Connecting to archive.ubuntu.com] [Connecting to security.ubuntu.com (91.18\r                                                                               \rIgn:2 https://developer.download.nvidia.com/compute/cuda/repos/ubuntu1804/x86_64  InRelease\n",
            "\r0% [Connecting to archive.ubuntu.com] [Connecting to security.ubuntu.com (91.18\r0% [1 InRelease gpgv 3,626 B] [Connecting to archive.ubuntu.com] [Connecting to\r                                                                               \rIgn:3 https://developer.download.nvidia.com/compute/machine-learning/repos/ubuntu1804/x86_64  InRelease\n",
            "\r0% [1 InRelease gpgv 3,626 B] [Connecting to archive.ubuntu.com] [Waiting for h\r                                                                               \rGet:4 https://developer.download.nvidia.com/compute/cuda/repos/ubuntu1804/x86_64  Release [696 B]\n",
            "\r0% [1 InRelease gpgv 3,626 B] [Connecting to archive.ubuntu.com] [Waiting for h\r0% [1 InRelease gpgv 3,626 B] [Connecting to archive.ubuntu.com] [Waiting for h\r                                                                               \rHit:5 https://developer.download.nvidia.com/compute/machine-learning/repos/ubuntu1804/x86_64  Release\n",
            "\r0% [1 InRelease gpgv 3,626 B] [Connecting to archive.ubuntu.com] [Waiting for h\r                                                                               \rGet:6 https://developer.download.nvidia.com/compute/cuda/repos/ubuntu1804/x86_64  Release.gpg [836 B]\n",
            "Get:7 http://security.ubuntu.com/ubuntu bionic-security InRelease [88.7 kB]\n",
            "Get:8 http://ppa.launchpad.net/c2d4u.team/c2d4u4.0+/ubuntu bionic InRelease [15.9 kB]\n",
            "Get:9 https://cloud.r-project.org/bin/linux/ubuntu bionic-cran40/ Packages [80.4 kB]\n",
            "Hit:10 http://archive.ubuntu.com/ubuntu bionic InRelease\n",
            "Get:12 http://archive.ubuntu.com/ubuntu bionic-updates InRelease [88.7 kB]\n",
            "Get:13 https://developer.download.nvidia.com/compute/cuda/repos/ubuntu1804/x86_64  Packages [932 kB]\n",
            "Hit:14 http://ppa.launchpad.net/cran/libgit2/ubuntu bionic InRelease\n",
            "Get:15 http://ppa.launchpad.net/deadsnakes/ppa/ubuntu bionic InRelease [15.9 kB]\n",
            "Get:16 http://security.ubuntu.com/ubuntu bionic-security/universe amd64 Packages [1,479 kB]\n",
            "Get:17 http://archive.ubuntu.com/ubuntu bionic-backports InRelease [74.6 kB]\n",
            "Hit:18 http://ppa.launchpad.net/graphics-drivers/ppa/ubuntu bionic InRelease\n",
            "Get:19 http://security.ubuntu.com/ubuntu bionic-security/main amd64 Packages [2,628 kB]\n",
            "Get:20 http://ppa.launchpad.net/c2d4u.team/c2d4u4.0+/ubuntu bionic/main Sources [1,827 kB]\n",
            "Get:21 http://archive.ubuntu.com/ubuntu bionic-updates/universe amd64 Packages [2,257 kB]\n",
            "Get:22 http://archive.ubuntu.com/ubuntu bionic-updates/main amd64 Packages [3,067 kB]\n",
            "Get:23 http://ppa.launchpad.net/c2d4u.team/c2d4u4.0+/ubuntu bionic/main amd64 Packages [936 kB]\n",
            "Get:24 http://ppa.launchpad.net/deadsnakes/ppa/ubuntu bionic/main amd64 Packages [45.2 kB]\n",
            "Fetched 13.5 MB in 4s (3,177 kB/s)\n",
            "Reading package lists... Done\n"
          ]
        }
      ],
      "source": [
        "import os\n",
        "# Find the latest version of spark 3.0 from http://www.apache.org/dist/spark/ and enter as the spark version\n",
        "# For example:\n",
        "spark_version = 'spark-3.0.3'\n",
        "# spark_version = 'spark-3.2.1'\n",
        "os.environ['SPARK_VERSION']=spark_version\n",
        "\n",
        "# Install Spark and Java\n",
        "!apt-get update\n",
        "!apt-get install openjdk-11-jdk-headless -qq > /dev/null\n",
        "!wget -q http://www.apache.org/dist/spark/$SPARK_VERSION/$SPARK_VERSION-bin-hadoop2.7.tgz\n",
        "!tar xf $SPARK_VERSION-bin-hadoop2.7.tgz\n",
        "!pip install -q findspark\n",
        "\n",
        "# Set Environment Variables\n",
        "import os\n",
        "os.environ[\"JAVA_HOME\"] = \"/usr/lib/jvm/java-11-openjdk-amd64\"\n",
        "os.environ[\"SPARK_HOME\"] = f\"/content/{spark_version}-bin-hadoop2.7\"\n",
        "\n",
        "# Start a SparkSession\n",
        "import findspark\n",
        "findspark.init()"
      ]
    },
    {
      "cell_type": "code",
      "source": [
        "# Download the Postgres driver that will allow Spark to interact with Postgres.\n",
        "!wget https://jdbc.postgresql.org/download/postgresql-42.2.16.jar"
      ],
      "metadata": {
        "colab": {
          "base_uri": "https://localhost:8080/"
        },
        "id": "IK0K9Zm_cwAZ",
        "outputId": "46f3a05d-c802-4c84-f709-22f9a830be45"
      },
      "execution_count": 2,
      "outputs": [
        {
          "output_type": "stream",
          "name": "stdout",
          "text": [
            "--2022-03-19 15:56:03--  https://jdbc.postgresql.org/download/postgresql-42.2.16.jar\n",
            "Resolving jdbc.postgresql.org (jdbc.postgresql.org)... 72.32.157.228, 2001:4800:3e1:1::228\n",
            "Connecting to jdbc.postgresql.org (jdbc.postgresql.org)|72.32.157.228|:443... connected.\n",
            "HTTP request sent, awaiting response... 200 OK\n",
            "Length: 1002883 (979K) [application/java-archive]\n",
            "Saving to: ‘postgresql-42.2.16.jar’\n",
            "\n",
            "postgresql-42.2.16. 100%[===================>] 979.38K  6.11MB/s    in 0.2s    \n",
            "\n",
            "2022-03-19 15:56:03 (6.11 MB/s) - ‘postgresql-42.2.16.jar’ saved [1002883/1002883]\n",
            "\n"
          ]
        }
      ]
    },
    {
      "cell_type": "code",
      "source": [
        "from pyspark.sql import SparkSession\n",
        "spark = SparkSession.builder.appName(\"CloudETL\").config(\"spark.driver.extraClassPath\",\"/content/postgresql-42.2.16.jar\").getOrCreate()"
      ],
      "metadata": {
        "id": "kxnMx7MPc3vN"
      },
      "execution_count": 3,
      "outputs": []
    },
    {
      "cell_type": "markdown",
      "source": [
        "## Load S3 Data into Spark DataFrame"
      ],
      "metadata": {
        "id": "R9OUsaSrgp0h"
      }
    },
    {
      "cell_type": "code",
      "source": [
        "from pyspark import SparkFiles\n",
        "\n",
        "# Copy Base url and specific file names for each csv\n",
        "base_url = 'https://srfassihi-bucket.s3.amazonaws.com/'\n",
        "file1 = 'evModelLookup.csv'\n",
        "file2 = 'alt_fuel_stations_Cleaned.csv'\n",
        "file3 = 'BEA+City+Income+2018-2020_Cleaned.csv'\n",
        "file4 = 'Electric_Vehicle_Population_Size_History_Cleaned.csv'\n",
        "file5 = 'EvMonthlySales_Cleaned.csv'\n",
        "file6 = 'EvsLightDutyDetails_Cleaned.csv'\n",
        "file7 = 'FuelEconomygovVehicles_Cleaned.csv'\n",
        "file8 = 'gasolinePriceData_Cleaned.csv'\n",
        "file9 = 'total_fuel_stations_byState.csv'\n",
        "file10 = 'UsTotalSalesVehicles.csv'\n",
        "file11 = 'ElectricityPerKwhAverage.csv'\n",
        "file12 = 'BEA+County+Income+2018-2020+cleaned.csv'\n",
        "# file13 = 'laws_and_incentives (Mar 9 2022)_Cleaned.csv'\n",
        "\n",
        "\n",
        "#Read file(s) into Spark DataFrame\n",
        "spark.sparkContext.addFile(f'{base_url}{file1}')\n",
        "df1 = spark.read.csv(SparkFiles.get(file1), sep=\",\", header=True, inferSchema=True)\n",
        "print(f'Table for {file1}:')\n",
        "df1.show(10)\n",
        "\n",
        "spark.sparkContext.addFile(f'{base_url}{file2}')\n",
        "df2 = spark.read.csv(SparkFiles.get(file2), sep=\",\", header=True, inferSchema=True)\n",
        "print(f'Table for {file2}:')\n",
        "df2.show(10)\n",
        "\n",
        "spark.sparkContext.addFile(f'{base_url}{file3}')\n",
        "df3 = spark.read.csv(SparkFiles.get(file3), sep=\",\", header=True, inferSchema=True)\n",
        "print(f'Table for {file3}:')\n",
        "df3.show(10)\n",
        "\n",
        "spark.sparkContext.addFile(f'{base_url}{file4}')\n",
        "df4 = spark.read.csv(SparkFiles.get(file4), sep=\",\", header=True, inferSchema=True)\n",
        "print(f'Table for {file4}:')\n",
        "df4.show(10)\n",
        "\n",
        "spark.sparkContext.addFile(f'{base_url}{file5}')\n",
        "df5 = spark.read.csv(SparkFiles.get(file5), sep=\",\", header=True, inferSchema=True)\n",
        "print(f'Table for {file5}:')\n",
        "df5.show(10)\n",
        "\n",
        "spark.sparkContext.addFile(f'{base_url}{file6}')\n",
        "df6 = spark.read.csv(SparkFiles.get(file6), sep=\",\", header=True, inferSchema=True)\n",
        "print(f'Table for {file6}:')\n",
        "df6.show(10)\n",
        "\n",
        "spark.sparkContext.addFile(f'{base_url}{file7}')\n",
        "df7 = spark.read.csv(SparkFiles.get(file7), sep=\",\", header=True, inferSchema=True)\n",
        "print(f'Table for {file7}:')\n",
        "df7.show(10)\n",
        "\n",
        "spark.sparkContext.addFile(f'{base_url}{file8}')\n",
        "df8 = spark.read.csv(SparkFiles.get(file8), sep=\",\", header=True, inferSchema=True)\n",
        "print(f'Table for {file8}:')\n",
        "df8.show(10)\n",
        "\n",
        "spark.sparkContext.addFile(f'{base_url}{file9}')\n",
        "df9 = spark.read.csv(SparkFiles.get(file9), sep=\",\", header=True, inferSchema=True)\n",
        "print(f'Table for {file9}:')\n",
        "df9.show(10)\n",
        "\n",
        "spark.sparkContext.addFile(f'{base_url}{file10}')\n",
        "df10 = spark.read.csv(SparkFiles.get(file10), sep=\",\", header=True, inferSchema=True)\n",
        "print(f'Table for {file10}:')\n",
        "df10.show(10)\n",
        "\n",
        "spark.sparkContext.addFile(f'{base_url}{file11}')\n",
        "df11 = spark.read.csv(SparkFiles.get(file11), sep=\",\", header=True, inferSchema=True)\n",
        "print(f'Table for {file11}:')\n",
        "df11.show(10)\n",
        "\n",
        "spark.sparkContext.addFile(f'{base_url}{file12}')\n",
        "df12 = spark.read.csv(SparkFiles.get(file12), sep=\",\", header=True, inferSchema=True)\n",
        "print(f'Table for {file12}:')\n",
        "df12.show(10)\n",
        "\n",
        "# spark.sparkContext.addFile(f'{base_url}{file13}')\n",
        "# df = spark.read.csv(SparkFiles.get(file13), sep=\",\", header=True, inferSchema=True)\n",
        "# df.show(10)"
      ],
      "metadata": {
        "colab": {
          "base_uri": "https://localhost:8080/"
        },
        "id": "ibw2wnyTgy03",
        "outputId": "cefdb1a5-5adf-4efe-8aaf-91879a3e9cf3"
      },
      "execution_count": 12,
      "outputs": [
        {
          "output_type": "stream",
          "name": "stdout",
          "text": [
            "Table for evModelLookup.csv:\n",
            "+-------+--------------------+---------+-------+-------------------+-----------------+-------------------+------+--------+-------+-------------+----------------------+------------------------+---------------------+-------------+---------------+-----------+--------------------------------+-----------------------------+----------------------+--------+\n",
            "|modelId|       modelFullName|brandName|brandId|          modelName|epaClassification|epaClassificationId|evType|evTypeId|retired|startingPrice|startingPriceThousands|epaFuelEconomyEquivalent|rangeMilesBatteryOnly|rangeCombined|rangeBatteryPct|rangeGasPct|rangeElectricPriceThousandsRatio|rangeTotalPriceThousandsRatio|mpgPriceThousandsRatio|tankSize|\n",
            "+-------+--------------------+---------+-------+-------------------+-----------------+-------------------+------+--------+-------+-------------+----------------------+------------------------+---------------------+-------------+---------------+-----------+--------------------------------+-----------------------------+----------------------+--------+\n",
            "|      1|Audi A3 Sportback...|     Audi|      1|A3 Sportback e-tron|          compact|                  1|    ev|       1|     no|        45125|                45.125|                      83|                   75|           75|          100.0|        0.0|                     1.662049861|                  1.662049861|            1.83933518|    null|\n",
            "|      2|         Audi e-tron|     Audi|      1|             e-tron|              suv|                  6|    ev|       1|     no|        75795|                75.795|                      74|                  204|          204|          100.0|        0.0|                     2.691470414|                  2.691470414|          0.9763176991|    null|\n",
            "|      3|            BMW 330e|      BMW|      2|               330e|            sedan|                  4|hybrid|       2|     no|        42950|                 42.95|                      25|                   23|          320|         7.1875|    92.8125|                    0.5355064028|                  7.450523865|          0.5820721769|    11.9|\n",
            "|      4|            BMW 530e|      BMW|      2|               530e|            sedan|                  4|hybrid|       2|     no|        57200|                  57.2|                      37|                   21|          350|            6.0|       94.0|                    0.3671328671|                  6.118881119|          0.6468531469|     8.9|\n",
            "|      5|            BMW 740e|      BMW|      2|               740e|            sedan|                  4|hybrid|       2|     no|        90700|                  90.7|                      27|                   14|          340|    4.117647059|95.88235294|                    0.1543550165|                   3.74862183|          0.2976846748|    12.1|\n",
            "|      6|              BMW i3|      BMW|      2|                 i3|          compact|                  1|    ev|       1|     no|        45445|                45.445|                     102|                  153|          153|          100.0|        0.0|                     3.366707008|                  3.366707008|           2.244471339|    null|\n",
            "|      7|              BMW i8|      BMW|      2|                 i8|            coupe|                  2|hybrid|       2|     no|       148495|               148.495|                      35|                   18|          320|          5.625|     94.375|                    0.1212162026|                  2.154954712|          0.2356981717|     8.6|\n",
            "|      8|    BMWX5 xDrive 40e|    BMWX5|      2|         xDrive 40e|              suv|                  6|hybrid|       2|     no|        66395|                66.395|                      25|                   14|          540|    2.592592593|97.40740741|                    0.2108592514|                  8.133142556|          0.3765343776|    21.0|\n",
            "|      9|   Cadillac CT6 PHEV| Cadillac|      3|           CT6 PHEV|            sedan|                  4|hybrid|       2|     no|        76090|                 76.09|                      26|                   31|          400|           7.75|      92.25|                    0.4074122749|                   5.25693258|          0.3417006177|    14.2|\n",
            "|     10|        Cadillac ELR| Cadillac|      3|                ELR|            coupe|                  2|hybrid|       2|    yes|        65995|                65.995|                      37|                   37|          340|    10.88235294|89.11764706|                     0.560648534|                  5.151905447|           0.560648534|     8.2|\n",
            "+-------+--------------------+---------+-------+-------------------+-----------------+-------------------+------+--------+-------+-------------+----------------------+------------------------+---------------------+-------------+---------------+-----------+--------------------------------+-----------------------------+----------------------+--------+\n",
            "only showing top 10 rows\n",
            "\n",
            "Table for alt_fuel_stations_Cleaned.csv:\n",
            "+------+--------------+--------------------+--------------------+---------+-----+-----+--------------------+-------------------+--------------+----------------+-----------------+-------------------+--------------------+----------+------------------+-------+\n",
            "|    ID|Fuel Type Code|        Station Name|      Street Address|     City|State|  ZIP|    Access Days Time|         EV Network|Geocode Status|        Latitude|        Longitude|Date Last Confirmed|          Updated At| Open Date|EV Connector Types|Country|\n",
            "+------+--------------+--------------------+--------------------+---------+-----+-----+--------------------+-------------------+--------------+----------------+-----------------+-------------------+--------------------+----------+------------------+-------+\n",
            "|169333|          ELEC|VIP LOT CHARGER V...|    1000 ARLBERG AVE| GIRDWOOD|   AK|99587|      24 hours daily|ChargePoint Network|           GPS|       60.971375|      -149.098667|         2022-03-09|2022-03-09 00:32:...|2020-11-19|             J1772|     US|\n",
            "|117441|          ELEC|      Statter Harbor|11497 Auke Bay Ha...|   Juneau|   AK|99801|      24 hours daily|      Non-Networked|           GPS|       58.386698|      -134.646337|         2022-01-10|2022-02-10 19:42:...|2018-11-15|             J1772|     US|\n",
            "|117442|          ELEC| Treadwell Ice Arena|      105 Savikko Rd|  Douglas|   AK|99801|      24 hours daily|      Non-Networked|           GPS|        58.27397|      -134.390728|         2022-01-10|2022-02-10 19:42:...|2018-11-15|             J1772|     US|\n",
            "|153497|          ELEC|University of Ala...| 11066 Auke Lake Way|   Juneau|   AK|99801|      24 hours daily|      Non-Networked|           GPS|       58.383902|      -134.639236|         2021-10-12|2022-02-10 19:42:...|2014-01-01|             J1772|     US|\n",
            "|196545|          ELEC|    Anchorage Museum|            625 C St|Anchorage|   AK|99501|      24 hours daily|      Non-Networked|           GPS|61.2157121227527|-149.884839700095|         2021-10-12|2022-02-10 19:42:...|2021-09-30|             J1772|     US|\n",
            "|201671|          ELEC|Soldotna - Tesla ...|43540 Whistle Hil...| Soldotna|   AK|99669|      24 hours daily|              Tesla|           GPS|       60.494628|      -151.045047|         2021-12-09|2022-02-10 19:42:...|2021-11-18|             TESLA|     US|\n",
            "|170571|          ELEC|Chevrolet of Wasilla|    3700 E Parks Hwy|  Wasilla|   AK|99654|Dealership busine...|      Non-Networked|           GPS|       61.569624|      -149.356304|         2021-01-14|2021-08-04 00:01:...|2020-12-21|  J1772 J1772COMBO|     US|\n",
            "|170572|          ELEC|          Turkey Red|     539 S Bailey St|   Palmer|   AK|99645|      24 hours daily|      Non-Networked|           GPS|       61.601874|      -149.115806|         2021-01-14|2021-08-04 00:01:...|2020-12-21|       J1772 TESLA|     US|\n",
            "|170573|          ELEC|    Talkeetna Cabins|          22137 C St|Talkeetna|   AK|99676|      24 hours daily|      Non-Networked|           GPS|       62.323961|      -150.115178|         2021-01-14|2021-08-04 00:01:...|2020-12-21|             TESLA|     US|\n",
            "|170574|          ELEC|         K2 Aviation|      14052 E 2nd St|Talkeetna|   AK|99676|      24 hours daily|      Non-Networked|           GPS|         62.3213|      -150.103386|         2021-01-14|2021-08-04 00:01:...|2020-12-21|             TESLA|     US|\n",
            "+------+--------------+--------------------+--------------------+---------+-----+-----+--------------------+-------------------+--------------+----------------+-----------------+-------------------+--------------------+----------+------------------+-------+\n",
            "only showing top 10 rows\n",
            "\n",
            "Table for BEA+City+Income+2018-2020_Cleaned.csv:\n",
            "+--------------------+------+------+------+------+\n",
            "|                City| State|  2018|  2019|  2020|\n",
            "+--------------------+------+------+------+------+\n",
            "|             Abilene|    TX|44,039|46,493|49,948|\n",
            "|               Akron|    OH|49,770|51,714|54,843|\n",
            "|              Albany|    GA|36,889|38,764|42,744|\n",
            "|      Albany-Lebanon|    OR|42,811|43,971|48,040|\n",
            "|Albany-Schenectad...|    NY|57,743|60,500|65,112|\n",
            "|         Albuquerque|    NM|42,129|43,975|47,442|\n",
            "|          Alexandria|    LA|42,744|44,475|47,961|\n",
            "|Allentown-Bethleh...| PA-NJ|53,518|55,363|59,193|\n",
            "|             Altoona|    PA|46,236|47,573|52,096|\n",
            "|            Amarillo|    TX|46,895|49,008|51,116|\n",
            "+--------------------+------+------+------+------+\n",
            "only showing top 10 rows\n",
            "\n",
            "Table for Electric_Vehicle_Population_Size_History_Cleaned.csv:\n",
            "+----------+--------------------------------------------+------------------------------------+---------------------------+\n",
            "|      Date|Plug-In Hybrid Electric Vehicle (PHEV) Count|Battery Electric Vehicle (BEV) Count|Electric Vehicle (EV) Total|\n",
            "+----------+--------------------------------------------+------------------------------------+---------------------------+\n",
            "|2017-01-31|                                        8398|                               14799|                      23197|\n",
            "|2017-02-28|                                        8618|                               15308|                      23926|\n",
            "|2017-03-31|                                        8849|                               15799|                      24648|\n",
            "|2017-04-30|                                        9032|                               16455|                      25487|\n",
            "|2017-05-31|                                        9251|                               17031|                      26282|\n",
            "|2017-06-30|                                        9466|                               17601|                      27067|\n",
            "|2017-07-31|                                        9655|                               18120|                      27775|\n",
            "|2017-08-31|                                        9876|                               18576|                      28452|\n",
            "|2017-09-30|                                       10098|                               19076|                      29174|\n",
            "|2017-10-31|                                       10381|                               19634|                      30015|\n",
            "+----------+--------------------------------------------+------------------------------------+---------------------------+\n",
            "only showing top 10 rows\n",
            "\n",
            "Table for EvMonthlySales_Cleaned.csv:\n",
            "+----------+-------+-------+-------------+\n",
            "|date_value|date_id|modelId|monthly_sales|\n",
            "+----------+-------+-------+-------------+\n",
            "|2011-01-31| 40,574|      1|          0.0|\n",
            "|2011-02-28| 40,602|      1|          0.0|\n",
            "|2011-03-31| 40,633|      1|          0.0|\n",
            "|2011-04-30| 40,663|      1|          0.0|\n",
            "|2011-05-31| 40,694|      1|          0.0|\n",
            "|2011-06-30| 40,724|      1|          0.0|\n",
            "|2011-07-31| 40,755|      1|          0.0|\n",
            "|2011-08-31| 40,786|      1|          0.0|\n",
            "|2011-09-30| 40,816|      1|          0.0|\n",
            "|2011-10-31| 40,847|      1|          0.0|\n",
            "+----------+-------+-------+-------------+\n",
            "only showing top 10 rows\n",
            "\n",
            "Table for EvsLightDutyDetails_Cleaned.csv:\n",
            "+----------+-----------------+------------+---------------+----------+-----------+---------------+-------+-----------------+------------------+\n",
            "|Model Year|            Model|Manufacturer|Manufacturer ID|Vehicle ID|   Category|           Fuel|Fuel ID|Transmission Type|Engine Description|\n",
            "+----------+-----------------+------------+---------------+----------+-----------+---------------+-------+-----------------+------------------+\n",
            "|      2010|           Altima|      Nissan|            217|       941|Sedan/Wagon|Hybrid Electric|     45|        Automatic|              null|\n",
            "|      2010|            Camry|      Toyota|            221|       943|Sedan/Wagon|Hybrid Electric|     45|        Automatic|              null|\n",
            "|      2010|     Civic Hybrid|       Honda|            209|       935|Sedan/Wagon|Hybrid Electric|     45|        Automatic|              null|\n",
            "|      2010|  Escalade Hybrid|    Cadillac|            231|       946|        SUV|Hybrid Electric|     45|        Automatic|              null|\n",
            "|      2010|    Escape Hybrid|        Ford|            219|       945|        SUV|Hybrid Electric|     45|        Automatic|              null|\n",
            "|      2010|Fusion Hybrid FWD|        Ford|            219|       914|Sedan/Wagon|Hybrid Electric|     45|        Automatic|              null|\n",
            "|      2010|          HS 250h|       Lexus|            243|       931|Sedan/Wagon|Hybrid Electric|     45| V6, Hybrid, 3.5L|              null|\n",
            "|      2010|       Highlander|      Toyota|            221|       948|        SUV|Hybrid Electric|     45|        Automatic|              null|\n",
            "|      2010|          Insight|       Honda|            209|       986|Sedan/Wagon|Hybrid Electric|     45|        Automatic|              null|\n",
            "|      2010|        Malibu LS|   Chevrolet|            215|       936|Sedan/Wagon|Hybrid Electric|     45|        Automatic|              null|\n",
            "+----------+-----------------+------------+---------------+----------+-----------+---------------+-------+-----------------+------------------+\n",
            "only showing top 10 rows\n",
            "\n",
            "Table for FuelEconomygovVehicles_Cleaned.csv:\n",
            "+----+-----+-------+--------------+---------+--------+---------+\n",
            "|year| make|  model|         trany|rangeCity|rangeHwy|highway08|\n",
            "+----+-----+-------+--------------+---------+--------+---------+\n",
            "|2010|Acura|    TSX|  Manual 6-spd|      0.0|     0.0|       28|\n",
            "|2010|Acura|    TSX|Automatic (S5)|      0.0|     0.0|       30|\n",
            "|2010|Acura|    TSX|Automatic (S5)|      0.0|     0.0|       27|\n",
            "|2010|Acura|     RL|Automatic (S5)|      0.0|     0.0|       22|\n",
            "|2010|Acura|RDX 2WD|Automatic (S5)|      0.0|     0.0|       24|\n",
            "|2010|Acura|RDX 4WD|Automatic (S5)|      0.0|     0.0|       22|\n",
            "|2010|Acura| TL 2WD|Automatic (S5)|      0.0|     0.0|       26|\n",
            "|2010|Acura| TL 4WD|  Manual 6-spd|      0.0|     0.0|       25|\n",
            "|2010|Acura| TL 4WD|Automatic (S5)|      0.0|     0.0|       25|\n",
            "|2010|Acura|MDX 4WD|Automatic (S6)|      0.0|     0.0|       21|\n",
            "+----+-----+-------+--------------+---------+--------+---------+\n",
            "only showing top 10 rows\n",
            "\n",
            "Table for gasolinePriceData_Cleaned.csv:\n",
            "+----------+------+-----------------+\n",
            "|      date|dateId|pricePerGallonGas|\n",
            "+----------+------+-----------------+\n",
            "|2010-01-01|40,209|            2.715|\n",
            "|2010-02-01|40,237|            2.644|\n",
            "|2010-03-01|40,268|            2.772|\n",
            "|2010-04-01|40,298|            2.848|\n",
            "|2010-05-01|40,329|            2.836|\n",
            "|2010-06-01|40,359|            2.732|\n",
            "|2010-07-01|40,390|            2.729|\n",
            "|2010-08-01|40,421|             2.73|\n",
            "|2010-09-01|40,451|            2.705|\n",
            "|2010-10-01|40,482|            2.801|\n",
            "+----------+------+-----------------+\n",
            "only showing top 10 rows\n",
            "\n",
            "Table for total_fuel_stations_byState.csv:\n",
            "+-----+------------------+\n",
            "|State|Number_of_Stations|\n",
            "+-----+------------------+\n",
            "|   AK|                52|\n",
            "|   AL|               271|\n",
            "|   AR|               171|\n",
            "|   AZ|               914|\n",
            "|   CA|             14245|\n",
            "|   CO|              1620|\n",
            "|   CT|               528|\n",
            "|   DC|               296|\n",
            "|   DE|               138|\n",
            "|   FL|              2671|\n",
            "+-----+------------------+\n",
            "only showing top 10 rows\n",
            "\n",
            "Table for UsTotalSalesVehicles.csv:\n",
            "+----------+-------+\n",
            "|      DATE|TOTALSA|\n",
            "+----------+-------+\n",
            "|2000-01-01| 18.635|\n",
            "|2000-02-01| 19.401|\n",
            "|2000-03-01| 18.343|\n",
            "|2000-04-01| 17.939|\n",
            "|2000-05-01| 17.943|\n",
            "|2000-06-01| 17.596|\n",
            "|2000-07-01| 17.316|\n",
            "|2000-08-01| 17.531|\n",
            "|2000-09-01| 18.654|\n",
            "|2000-10-01| 17.514|\n",
            "+----------+-------+\n",
            "only showing top 10 rows\n",
            "\n",
            "Table for ElectricityPerKwhAverage.csv:\n",
            "+----------+------------+\n",
            "|      DATE|APU000072610|\n",
            "+----------+------------+\n",
            "|1978-11-01|       0.046|\n",
            "|1978-12-01|       0.046|\n",
            "|1979-01-01|       0.046|\n",
            "|1979-02-01|       0.047|\n",
            "|1979-03-01|       0.047|\n",
            "|1979-04-01|       0.048|\n",
            "|1979-05-01|       0.049|\n",
            "|1979-06-01|       0.052|\n",
            "|1979-07-01|       0.053|\n",
            "|1979-08-01|       0.053|\n",
            "+----------+------------+\n",
            "only showing top 10 rows\n",
            "\n",
            "Table for BEA+County+Income+2018-2020+cleaned.csv:\n",
            "+--------+-----+----+-------+------+------+------+\n",
            "|  County|FIPSC|FIPS|  State|  2018|  2019|  2020|\n",
            "+--------+-----+----+-------+------+------+------+\n",
            "| Autauga| 1001|1001|Alabama|42,931|44,368|46,814|\n",
            "| Baldwin| 1003|1003|Alabama|46,905|48,270|50,953|\n",
            "| Barbour| 1005|1005|Alabama|34,064|35,572|37,850|\n",
            "|    Bibb| 1007|1007|Alabama|30,250|31,540|34,300|\n",
            "|  Blount| 1009|1009|Alabama|35,905|36,969|38,808|\n",
            "| Bullock| 1011|1011|Alabama|26,841|28,136|31,944|\n",
            "|  Butler| 1013|1013|Alabama|35,932|38,073|39,988|\n",
            "| Calhoun| 1015|1015|Alabama|36,482|37,708|40,195|\n",
            "|Chambers| 1017|1017|Alabama|34,055|36,110|38,508|\n",
            "|Cherokee| 1019|1019|Alabama|35,647|36,381|37,869|\n",
            "+--------+-----+----+-------+------+------+------+\n",
            "only showing top 10 rows\n",
            "\n"
          ]
        }
      ]
    },
    {
      "cell_type": "code",
      "source": [
        "# !ls -l /tmp/spark-f7813379-6615-4d7f-8802-0b19dcf3face/userFiles-8ed8d5a3-55f0-4609-a15f-eda3c48485d8"
      ],
      "metadata": {
        "colab": {
          "base_uri": "https://localhost:8080/"
        },
        "id": "urjo1fu-zXYT",
        "outputId": "d480e43b-d5ee-47cd-af5b-e7ea083047a6"
      },
      "execution_count": 11,
      "outputs": [
        {
          "output_type": "stream",
          "name": "stdout",
          "text": [
            "ls: cannot access '/tmp/spark-f7813379-6615-4d7f-8802-0b19dcf3face/userFiles-8ed8d5a3-55f0-4609-a15f-eda3c48485d8': No such file or directory\n"
          ]
        }
      ]
    },
    {
      "cell_type": "code",
      "source": [
        "# Convert dtypes to String\n",
        "for col in df7.dtypes:\n",
        "    print(col[0]+\" , \"+col[1])"
      ],
      "metadata": {
        "colab": {
          "base_uri": "https://localhost:8080/"
        },
        "id": "3USo7Qo-nUka",
        "outputId": "1a85f1ed-1b64-4270-cd8a-227497e0d977"
      },
      "execution_count": 36,
      "outputs": [
        {
          "output_type": "stream",
          "name": "stdout",
          "text": [
            "year , int\n",
            "make , string\n",
            "model , string\n",
            "trany , string\n",
            "rangeCity , double\n",
            "rangeHwy , double\n",
            "highway08 , int\n"
          ]
        }
      ]
    },
    {
      "cell_type": "code",
      "source": [
        "# Convert string values to integer\n"
      ],
      "metadata": {
        "id": "Dk4NC-uD-qYb"
      },
      "execution_count": null,
      "outputs": []
    },
    {
      "cell_type": "markdown",
      "source": [
        "## In PostGres use the following CREATE script to create the table"
      ],
      "metadata": {
        "id": "mFXLEe_ctPO-"
      }
    },
    {
      "cell_type": "code",
      "source": [
        "from typing import Text\n",
        "table_name = 'fuel_economy'\n",
        "script = f'CREATE TABLE {table_name} \\n'f'DATE TEXT,\\n'f'APU000072610 TEXT);'\n",
        "\n",
        "# 'f'(County TEXT,\\n'f'FIPSC INT,\\n'f'FIPS INT,\\n'f'State TEXT,\\n'f'2018 INT,\\n'f'2019 INT,\\n'f'2020 INT);\\n'\n",
        "print(script)"
      ],
      "metadata": {
        "colab": {
          "base_uri": "https://localhost:8080/"
        },
        "id": "-KTpwnVutNVt",
        "outputId": "e91ccc87-b523-4877-b03c-f330cdb6ec5a"
      },
      "execution_count": 35,
      "outputs": [
        {
          "output_type": "stream",
          "name": "stdout",
          "text": [
            "CREATE TABLE fuel_economy \n",
            "DATE TEXT,\n",
            "APU000072610 TEXT);\n"
          ]
        }
      ]
    },
    {
      "cell_type": "markdown",
      "source": [
        "## Connect to the AWS RDS Instance and write each DataFrame to its table"
      ],
      "metadata": {
        "id": "zQIyjOVon7Z-"
      }
    },
    {
      "cell_type": "code",
      "source": [
        "# Configure settings for RDS\n",
        "# mode = \"append\"\n",
        "mode = 'overwrite'\n",
        "endpoint= 'teamev.c5ap8dqhexya.us-east-1.rds.amazonaws.com'\n",
        "user_name = 'postgres'\n",
        "pw = 'dogecoin'\n",
        "jdbc_url=f\"jdbc:postgresql://{endpoint}:5432/{user_name}\"\n",
        "config = {\"user\":f\"{user_name}\", \n",
        "          \"password\": pw, \n",
        "          \"driver\":\"org.postgresql.Driver\"}"
      ],
      "metadata": {
        "id": "RNdIXyKYn4H9"
      },
      "execution_count": 29,
      "outputs": []
    },
    {
      "cell_type": "code",
      "source": [
        "# Write evModelLookup to table in RDS\n",
        "df7.write.jdbc(url=jdbc_url, table= table_name, mode=mode, properties=config)"
      ],
      "metadata": {
        "id": "KUmQxfyCpaW5"
      },
      "execution_count": 37,
      "outputs": []
    }
  ]
}