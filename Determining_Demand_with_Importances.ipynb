{
 "cells": [
  {
   "cell_type": "markdown",
   "id": "37b07c65",
   "metadata": {},
   "source": [
    "What features and parameters dictate electric car demand?"
   ]
  },
  {
   "cell_type": "code",
   "execution_count": 1,
   "id": "04599e9c",
   "metadata": {},
   "outputs": [],
   "source": [
    "import warnings\n",
    "warnings.filterwarnings('ignore')\n",
    "import numpy as np\n",
    "import pandas as pd\n",
    "from pathlib import Path\n",
    "from collections import Counter\n",
    "from sklearn.metrics import balanced_accuracy_score\n",
    "from sklearn.metrics import confusion_matrix\n",
    "from imblearn.metrics import classification_report_imbalanced\n",
    "from sklearn.model_selection import train_test_split\n",
    "import psycopg2\n",
    "import sqlalchemy"
   ]
  },
  {
   "cell_type": "code",
   "execution_count": 3,
   "id": "394d0ac9",
   "metadata": {},
   "outputs": [],
   "source": [
    "# # Loading Data\n",
    "\n",
    "connection = psycopg2.connect(\n",
    "    host = 'teamev.c5ap8dqhexya.us-east-1.rds.amazonaws.com',\n",
    "    port = 5432,\n",
    "    user = 'postgres',\n",
    "    password = 'dogecoin',\n",
    "    database='postgres'\n",
    "    )\n",
    "cursor=connection.cursor()\n",
    "\n",
    "sql = \"\"\"\n",
    "SELECT * FROM monthly_sales; \n",
    "\"\"\"\n",
    "\n",
    "df = pd.read_sql(sql, con=connection)\n",
    "df.head(10)"
   ]
  },
  {
   "cell_type": "markdown",
   "id": "9305cd08",
   "metadata": {},
   "source": [
    "# Split the Data into Training and Testing"
   ]
  },
  {
   "cell_type": "code",
   "execution_count": 4,
   "id": "ec6d19e2",
   "metadata": {},
   "outputs": [],
   "source": [
    "# # Create our features\n",
    "# X = df.drop('<dependent_feature>', axis=1)\n",
    "\n",
    "# # Create our target\n",
    "# y = df['<dependent_feature>']\n",
    "\n",
    "# X = pd.get_dummies(X)"
   ]
  },
  {
   "cell_type": "code",
   "execution_count": 5,
   "id": "8ca998c3",
   "metadata": {},
   "outputs": [],
   "source": [
    "# X.describe()"
   ]
  },
  {
   "cell_type": "code",
   "execution_count": 6,
   "id": "aaad3f2c",
   "metadata": {},
   "outputs": [],
   "source": [
    "# X_train, X_test, y_train, y_test = train_test_split(X,\n",
    "#                                                     y,\n",
    "#                                                     random_state=1)"
   ]
  },
  {
   "cell_type": "code",
   "execution_count": 7,
   "id": "957f242f",
   "metadata": {},
   "outputs": [],
   "source": [
    "# # Resample the training data with the BalancedRandomForestClassifier\n",
    "# from imblearn.ensemble import BalancedRandomForestClassifier\n",
    "# brf_model = BalancedRandomForestClassifier(n_estimators=100, random_state=1)\n",
    "# brf_model = brf_model.fit(X_train, y_train)\n",
    "# brf_model"
   ]
  },
  {
   "cell_type": "code",
   "execution_count": 8,
   "id": "10756712",
   "metadata": {},
   "outputs": [],
   "source": [
    "# # Calculated the balanced accuracy score\n",
    "# y_pred = brf_model.predict(X_test)\n",
    "# acc_score = balanced_accuracy_score(y_test, y_pred)\n",
    "# acc_score"
   ]
  },
  {
   "cell_type": "code",
   "execution_count": null,
   "id": "1f03f938",
   "metadata": {},
   "outputs": [],
   "source": [
    "# # List the features sorted in descending order by feature importance\n",
    "# importances = rf_model.feature_importances_\n",
    "# sorted(zip(rf_model.feature_importances_, X.columns), reverse=True)"
   ]
  }
 ],
 "metadata": {
  "kernelspec": {
   "display_name": "mlenv",
   "language": "python",
   "name": "mlenv"
  },
  "language_info": {
   "codemirror_mode": {
    "name": "ipython",
    "version": 3
   },
   "file_extension": ".py",
   "mimetype": "text/x-python",
   "name": "python",
   "nbconvert_exporter": "python",
   "pygments_lexer": "ipython3",
   "version": "3.7.12"
  }
 },
 "nbformat": 4,
 "nbformat_minor": 5
}
