{
 "cells": [
  {
   "cell_type": "code",
   "execution_count": 6,
   "id": "a6558035",
   "metadata": {},
   "outputs": [],
   "source": [
    "import pandas as pd"
   ]
  },
  {
   "cell_type": "code",
   "execution_count": 7,
   "id": "ea9f0045",
   "metadata": {
    "scrolled": true
   },
   "outputs": [
    {
     "data": {
      "text/html": [
       "<div>\n",
       "<style scoped>\n",
       "    .dataframe tbody tr th:only-of-type {\n",
       "        vertical-align: middle;\n",
       "    }\n",
       "\n",
       "    .dataframe tbody tr th {\n",
       "        vertical-align: top;\n",
       "    }\n",
       "\n",
       "    .dataframe thead th {\n",
       "        text-align: right;\n",
       "    }\n",
       "</style>\n",
       "<table border=\"1\" class=\"dataframe\">\n",
       "  <thead>\n",
       "    <tr style=\"text-align: right;\">\n",
       "      <th></th>\n",
       "      <th>City</th>\n",
       "      <th>State</th>\n",
       "      <th>2018</th>\n",
       "      <th>2019</th>\n",
       "      <th>2020</th>\n",
       "    </tr>\n",
       "  </thead>\n",
       "  <tbody>\n",
       "    <tr>\n",
       "      <th>0</th>\n",
       "      <td>Abilene</td>\n",
       "      <td>TX</td>\n",
       "      <td>44,039</td>\n",
       "      <td>46,493</td>\n",
       "      <td>49,948</td>\n",
       "    </tr>\n",
       "    <tr>\n",
       "      <th>1</th>\n",
       "      <td>Akron</td>\n",
       "      <td>OH</td>\n",
       "      <td>49,770</td>\n",
       "      <td>51,714</td>\n",
       "      <td>54,843</td>\n",
       "    </tr>\n",
       "    <tr>\n",
       "      <th>2</th>\n",
       "      <td>Albany</td>\n",
       "      <td>GA</td>\n",
       "      <td>36,889</td>\n",
       "      <td>38,764</td>\n",
       "      <td>42,744</td>\n",
       "    </tr>\n",
       "    <tr>\n",
       "      <th>3</th>\n",
       "      <td>Albany-Lebanon</td>\n",
       "      <td>OR</td>\n",
       "      <td>42,811</td>\n",
       "      <td>43,971</td>\n",
       "      <td>48,040</td>\n",
       "    </tr>\n",
       "    <tr>\n",
       "      <th>4</th>\n",
       "      <td>Albany-Schenectady-Troy</td>\n",
       "      <td>NY</td>\n",
       "      <td>57,743</td>\n",
       "      <td>60,500</td>\n",
       "      <td>65,112</td>\n",
       "    </tr>\n",
       "  </tbody>\n",
       "</table>\n",
       "</div>"
      ],
      "text/plain": [
       "                      City State    2018    2019    2020\n",
       "0                  Abilene    TX  44,039  46,493  49,948\n",
       "1                    Akron    OH  49,770  51,714  54,843\n",
       "2                   Albany    GA  36,889  38,764  42,744\n",
       "3           Albany-Lebanon    OR  42,811  43,971  48,040\n",
       "4  Albany-Schenectady-Troy    NY  57,743  60,500  65,112"
      ]
     },
     "execution_count": 7,
     "metadata": {},
     "output_type": "execute_result"
    }
   ],
   "source": [
    "file_path = (r\"C:\\Users\\adaiu\\OneDrive\\Desktop\\Analysis Projects\\Electric-Car-Data-Analysis\\Resources\\Income\\BEA City Income 2018-2020.csv\")\n",
    "bea_city_income_df = pd.read_csv(file_path)\n",
    "bea_city_income_df.head()"
   ]
  },
  {
   "cell_type": "code",
   "execution_count": null,
   "id": "a2579ad2",
   "metadata": {},
   "outputs": [],
   "source": []
  }
 ],
 "metadata": {
  "kernelspec": {
   "display_name": "PythonData",
   "language": "python",
   "name": "pythondata"
  },
  "language_info": {
   "codemirror_mode": {
    "name": "ipython",
    "version": 3
   },
   "file_extension": ".py",
   "mimetype": "text/x-python",
   "name": "python",
   "nbconvert_exporter": "python",
   "pygments_lexer": "ipython3",
   "version": "3.7.10"
  }
 },
 "nbformat": 4,
 "nbformat_minor": 5
}
