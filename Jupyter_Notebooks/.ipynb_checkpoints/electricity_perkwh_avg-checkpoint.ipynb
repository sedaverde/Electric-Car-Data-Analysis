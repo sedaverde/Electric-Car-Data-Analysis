{
 "cells": [
  {
   "cell_type": "code",
   "execution_count": 12,
   "id": "de4a516e",
   "metadata": {},
   "outputs": [],
   "source": [
    "import pandas as pd"
   ]
  },
  {
   "cell_type": "code",
   "execution_count": 16,
   "id": "c5c90e7d",
   "metadata": {},
   "outputs": [
    {
     "data": {
      "text/html": [
       "<div>\n",
       "<style scoped>\n",
       "    .dataframe tbody tr th:only-of-type {\n",
       "        vertical-align: middle;\n",
       "    }\n",
       "\n",
       "    .dataframe tbody tr th {\n",
       "        vertical-align: top;\n",
       "    }\n",
       "\n",
       "    .dataframe thead th {\n",
       "        text-align: right;\n",
       "    }\n",
       "</style>\n",
       "<table border=\"1\" class=\"dataframe\">\n",
       "  <thead>\n",
       "    <tr style=\"text-align: right;\">\n",
       "      <th></th>\n",
       "      <th>APU000072610</th>\n",
       "      <th>dateValue</th>\n",
       "    </tr>\n",
       "  </thead>\n",
       "  <tbody>\n",
       "    <tr>\n",
       "      <th>0</th>\n",
       "      <td>0.046</td>\n",
       "      <td>1978-11</td>\n",
       "    </tr>\n",
       "    <tr>\n",
       "      <th>1</th>\n",
       "      <td>0.046</td>\n",
       "      <td>1978-12</td>\n",
       "    </tr>\n",
       "    <tr>\n",
       "      <th>2</th>\n",
       "      <td>0.046</td>\n",
       "      <td>1979-1</td>\n",
       "    </tr>\n",
       "    <tr>\n",
       "      <th>3</th>\n",
       "      <td>0.047</td>\n",
       "      <td>1979-2</td>\n",
       "    </tr>\n",
       "    <tr>\n",
       "      <th>4</th>\n",
       "      <td>0.047</td>\n",
       "      <td>1979-3</td>\n",
       "    </tr>\n",
       "  </tbody>\n",
       "</table>\n",
       "</div>"
      ],
      "text/plain": [
       "  APU000072610 dateValue\n",
       "0        0.046   1978-11\n",
       "1        0.046   1978-12\n",
       "2        0.046    1979-1\n",
       "3        0.047    1979-2\n",
       "4        0.047    1979-3"
      ]
     },
     "execution_count": 16,
     "metadata": {},
     "output_type": "execute_result"
    }
   ],
   "source": [
    "file_path = (r\"C:\\Users\\adaiu\\OneDrive\\Desktop\\Analysis Projects\\Electric-Car-Data-Analysis\\Resources\\Fuel Cost\\Cleaned_dataset\\ElectricityPerKwhAverage.csv\")\n",
    "electricity_price_df = pd.read_csv(file_path)\n",
    "electricity_price_df.head()"
   ]
  },
  {
   "cell_type": "code",
   "execution_count": 17,
   "id": "41330322",
   "metadata": {},
   "outputs": [
    {
     "data": {
      "text/html": [
       "<div>\n",
       "<style scoped>\n",
       "    .dataframe tbody tr th:only-of-type {\n",
       "        vertical-align: middle;\n",
       "    }\n",
       "\n",
       "    .dataframe tbody tr th {\n",
       "        vertical-align: top;\n",
       "    }\n",
       "\n",
       "    .dataframe thead th {\n",
       "        text-align: right;\n",
       "    }\n",
       "</style>\n",
       "<table border=\"1\" class=\"dataframe\">\n",
       "  <thead>\n",
       "    <tr style=\"text-align: right;\">\n",
       "      <th></th>\n",
       "      <th>APU000072610</th>\n",
       "      <th>dateValue</th>\n",
       "    </tr>\n",
       "  </thead>\n",
       "  <tbody>\n",
       "    <tr>\n",
       "      <th>0</th>\n",
       "      <td>0.046</td>\n",
       "      <td>1978-11</td>\n",
       "    </tr>\n",
       "    <tr>\n",
       "      <th>1</th>\n",
       "      <td>0.046</td>\n",
       "      <td>1978-12</td>\n",
       "    </tr>\n",
       "    <tr>\n",
       "      <th>2</th>\n",
       "      <td>0.046</td>\n",
       "      <td>1979-1</td>\n",
       "    </tr>\n",
       "    <tr>\n",
       "      <th>11</th>\n",
       "      <td>0.053</td>\n",
       "      <td>1979-10</td>\n",
       "    </tr>\n",
       "    <tr>\n",
       "      <th>12</th>\n",
       "      <td>0.051</td>\n",
       "      <td>1979-11</td>\n",
       "    </tr>\n",
       "    <tr>\n",
       "      <th>...</th>\n",
       "      <td>...</td>\n",
       "      <td>...</td>\n",
       "    </tr>\n",
       "    <tr>\n",
       "      <th>512</th>\n",
       "      <td>0.143</td>\n",
       "      <td>2021-7</td>\n",
       "    </tr>\n",
       "    <tr>\n",
       "      <th>513</th>\n",
       "      <td>0.144</td>\n",
       "      <td>2021-8</td>\n",
       "    </tr>\n",
       "    <tr>\n",
       "      <th>514</th>\n",
       "      <td>0.144</td>\n",
       "      <td>2021-9</td>\n",
       "    </tr>\n",
       "    <tr>\n",
       "      <th>518</th>\n",
       "      <td>0.147</td>\n",
       "      <td>2022-1</td>\n",
       "    </tr>\n",
       "    <tr>\n",
       "      <th>519</th>\n",
       "      <td>0.148</td>\n",
       "      <td>2022-2</td>\n",
       "    </tr>\n",
       "  </tbody>\n",
       "</table>\n",
       "<p>520 rows × 2 columns</p>\n",
       "</div>"
      ],
      "text/plain": [
       "    APU000072610 dateValue\n",
       "0          0.046   1978-11\n",
       "1          0.046   1978-12\n",
       "2          0.046    1979-1\n",
       "11         0.053   1979-10\n",
       "12         0.051   1979-11\n",
       "..           ...       ...\n",
       "512        0.143    2021-7\n",
       "513        0.144    2021-8\n",
       "514        0.144    2021-9\n",
       "518        0.147    2022-1\n",
       "519        0.148    2022-2\n",
       "\n",
       "[520 rows x 2 columns]"
      ]
     },
     "execution_count": 17,
     "metadata": {},
     "output_type": "execute_result"
    }
   ],
   "source": [
    "electricity_price_df.sort_values(by = 'dateValue')"
   ]
  },
  {
   "cell_type": "code",
   "execution_count": 18,
   "id": "bf167728",
   "metadata": {},
   "outputs": [],
   "source": [
    "# electricity_price_df['yyyy'] = pd.to_datetime(electricity_price_df['DATE']).dt.year\n",
    "# electricity_price_df['mm'] = pd.to_datetime(electricity_price_df['DATE']).dt.month\n",
    "# electricity_price_df['dateValue'] = electricity_price_df['yyyy'].astype(str) + '-' + electricity_price_df['mm'].astype(str)\n",
    "\n",
    "# electricity_price_df.head()"
   ]
  },
  {
   "cell_type": "code",
   "execution_count": 22,
   "id": "04b81ef2",
   "metadata": {},
   "outputs": [
    {
     "data": {
      "text/html": [
       "<div>\n",
       "<style scoped>\n",
       "    .dataframe tbody tr th:only-of-type {\n",
       "        vertical-align: middle;\n",
       "    }\n",
       "\n",
       "    .dataframe tbody tr th {\n",
       "        vertical-align: top;\n",
       "    }\n",
       "\n",
       "    .dataframe thead th {\n",
       "        text-align: right;\n",
       "    }\n",
       "</style>\n",
       "<table border=\"1\" class=\"dataframe\">\n",
       "  <thead>\n",
       "    <tr style=\"text-align: right;\">\n",
       "      <th></th>\n",
       "      <th>price_per_kwh</th>\n",
       "      <th>dateValue</th>\n",
       "    </tr>\n",
       "  </thead>\n",
       "  <tbody>\n",
       "    <tr>\n",
       "      <th>0</th>\n",
       "      <td>0.046</td>\n",
       "      <td>1978-11</td>\n",
       "    </tr>\n",
       "    <tr>\n",
       "      <th>1</th>\n",
       "      <td>0.046</td>\n",
       "      <td>1978-12</td>\n",
       "    </tr>\n",
       "    <tr>\n",
       "      <th>2</th>\n",
       "      <td>0.046</td>\n",
       "      <td>1979-1</td>\n",
       "    </tr>\n",
       "    <tr>\n",
       "      <th>3</th>\n",
       "      <td>0.047</td>\n",
       "      <td>1979-2</td>\n",
       "    </tr>\n",
       "    <tr>\n",
       "      <th>4</th>\n",
       "      <td>0.047</td>\n",
       "      <td>1979-3</td>\n",
       "    </tr>\n",
       "  </tbody>\n",
       "</table>\n",
       "</div>"
      ],
      "text/plain": [
       "  price_per_kwh dateValue\n",
       "0         0.046   1978-11\n",
       "1         0.046   1978-12\n",
       "2         0.046    1979-1\n",
       "3         0.047    1979-2\n",
       "4         0.047    1979-3"
      ]
     },
     "execution_count": 22,
     "metadata": {},
     "output_type": "execute_result"
    }
   ],
   "source": [
    "# electricity_price_df.drop(columns = ['DATE', 'yyyy', 'mm'], inplace=True)\n",
    "electricity_price_df.rename(columns = {'APU000072610':'price_per_kwh'}, inplace=True)\n",
    "electricity_price_df.head()"
   ]
  },
  {
   "cell_type": "code",
   "execution_count": 23,
   "id": "6fa317bc",
   "metadata": {},
   "outputs": [],
   "source": [
    "filepath=(r'C:\\Users\\adaiu\\OneDrive\\Desktop\\Analysis Projects\\Electric-Car-Data-Analysis\\Resources\\Fuel Cost\\Cleaned_dataset\\ElectricityPerKwhAverage_cleaned.csv')\n",
    "electricity_price_df.to_csv(file_path, index = False)"
   ]
  },
  {
   "cell_type": "code",
   "execution_count": null,
   "id": "f2fe00b2",
   "metadata": {},
   "outputs": [],
   "source": []
  }
 ],
 "metadata": {
  "kernelspec": {
   "display_name": "PythonData",
   "language": "python",
   "name": "pythondata"
  },
  "language_info": {
   "codemirror_mode": {
    "name": "ipython",
    "version": 3
   },
   "file_extension": ".py",
   "mimetype": "text/x-python",
   "name": "python",
   "nbconvert_exporter": "python",
   "pygments_lexer": "ipython3",
   "version": "3.7.10"
  }
 },
 "nbformat": 4,
 "nbformat_minor": 5
}
