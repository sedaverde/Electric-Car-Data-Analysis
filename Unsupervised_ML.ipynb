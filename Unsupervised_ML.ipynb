{
 "cells": [
  {
   "cell_type": "code",
   "execution_count": 7,
   "id": "f48614e1",
   "metadata": {},
   "outputs": [],
   "source": [
    "import pandas as pd\n",
    "import sqlalchemy\n",
    "import plotly.express as px\n",
    "import hvplot.pandas\n",
    "from sklearn.cluster import KMeans\n",
    "import psycopg2"
   ]
  },
  {
   "cell_type": "code",
   "execution_count": 13,
   "id": "6ede05e4",
   "metadata": {},
   "outputs": [
    {
     "data": {
      "text/html": [
       "<div>\n",
       "<style scoped>\n",
       "    .dataframe tbody tr th:only-of-type {\n",
       "        vertical-align: middle;\n",
       "    }\n",
       "\n",
       "    .dataframe tbody tr th {\n",
       "        vertical-align: top;\n",
       "    }\n",
       "\n",
       "    .dataframe thead th {\n",
       "        text-align: right;\n",
       "    }\n",
       "</style>\n",
       "<table border=\"1\" class=\"dataframe\">\n",
       "  <thead>\n",
       "    <tr style=\"text-align: right;\">\n",
       "      <th></th>\n",
       "      <th>date_value</th>\n",
       "      <th>date_id</th>\n",
       "      <th>modelId</th>\n",
       "      <th>monthly_sales</th>\n",
       "    </tr>\n",
       "  </thead>\n",
       "  <tbody>\n",
       "    <tr>\n",
       "      <th>0</th>\n",
       "      <td>2011-01-31</td>\n",
       "      <td>40,574</td>\n",
       "      <td>1</td>\n",
       "      <td>0.0</td>\n",
       "    </tr>\n",
       "    <tr>\n",
       "      <th>1</th>\n",
       "      <td>2011-02-28</td>\n",
       "      <td>40,602</td>\n",
       "      <td>1</td>\n",
       "      <td>0.0</td>\n",
       "    </tr>\n",
       "    <tr>\n",
       "      <th>2</th>\n",
       "      <td>2011-03-31</td>\n",
       "      <td>40,633</td>\n",
       "      <td>1</td>\n",
       "      <td>0.0</td>\n",
       "    </tr>\n",
       "    <tr>\n",
       "      <th>3</th>\n",
       "      <td>2011-04-30</td>\n",
       "      <td>40,663</td>\n",
       "      <td>1</td>\n",
       "      <td>0.0</td>\n",
       "    </tr>\n",
       "    <tr>\n",
       "      <th>4</th>\n",
       "      <td>2011-05-31</td>\n",
       "      <td>40,694</td>\n",
       "      <td>1</td>\n",
       "      <td>0.0</td>\n",
       "    </tr>\n",
       "    <tr>\n",
       "      <th>5</th>\n",
       "      <td>2011-06-30</td>\n",
       "      <td>40,724</td>\n",
       "      <td>1</td>\n",
       "      <td>0.0</td>\n",
       "    </tr>\n",
       "    <tr>\n",
       "      <th>6</th>\n",
       "      <td>2011-07-31</td>\n",
       "      <td>40,755</td>\n",
       "      <td>1</td>\n",
       "      <td>0.0</td>\n",
       "    </tr>\n",
       "    <tr>\n",
       "      <th>7</th>\n",
       "      <td>2011-08-31</td>\n",
       "      <td>40,786</td>\n",
       "      <td>1</td>\n",
       "      <td>0.0</td>\n",
       "    </tr>\n",
       "    <tr>\n",
       "      <th>8</th>\n",
       "      <td>2011-09-30</td>\n",
       "      <td>40,816</td>\n",
       "      <td>1</td>\n",
       "      <td>0.0</td>\n",
       "    </tr>\n",
       "    <tr>\n",
       "      <th>9</th>\n",
       "      <td>2011-10-31</td>\n",
       "      <td>40,847</td>\n",
       "      <td>1</td>\n",
       "      <td>0.0</td>\n",
       "    </tr>\n",
       "  </tbody>\n",
       "</table>\n",
       "</div>"
      ],
      "text/plain": [
       "   date_value date_id  modelId  monthly_sales\n",
       "0  2011-01-31  40,574        1            0.0\n",
       "1  2011-02-28  40,602        1            0.0\n",
       "2  2011-03-31  40,633        1            0.0\n",
       "3  2011-04-30  40,663        1            0.0\n",
       "4  2011-05-31  40,694        1            0.0\n",
       "5  2011-06-30  40,724        1            0.0\n",
       "6  2011-07-31  40,755        1            0.0\n",
       "7  2011-08-31  40,786        1            0.0\n",
       "8  2011-09-30  40,816        1            0.0\n",
       "9  2011-10-31  40,847        1            0.0"
      ]
     },
     "execution_count": 13,
     "metadata": {},
     "output_type": "execute_result"
    }
   ],
   "source": [
    "connection = psycopg2.connect(\n",
    "    host = 'teamev.c5ap8dqhexya.us-east-1.rds.amazonaws.com',\n",
    "    port = 5432,\n",
    "    user = 'postgres',\n",
    "    password = 'dogecoin',\n",
    "    database='postgres'\n",
    "    )\n",
    "cursor=connection.cursor()\n",
    "\n",
    "sql = \"\"\"\n",
    "SELECT * FROM monthly_sales; \n",
    "\"\"\"\n",
    "\n",
    "df = pd.read_sql(sql, con=connection)\n",
    "# Loading Data\n",
    "# df = pd.read_sql_table('monthly_sales', con=connection)\n",
    "# file_path = \"<insert_file_path_right_here\"\n",
    "# df = pd.read_csv(file_path)\n",
    "df.head(10)"
   ]
  },
  {
   "cell_type": "code",
   "execution_count": 9,
   "id": "1f307595",
   "metadata": {},
   "outputs": [],
   "source": [
    "# Placeholder cell for ETL"
   ]
  },
  {
   "cell_type": "code",
   "execution_count": 10,
   "id": "df40f447",
   "metadata": {},
   "outputs": [],
   "source": [
    "# Placeholder cell for LabelEncoder"
   ]
  },
  {
   "cell_type": "code",
   "execution_count": null,
   "id": "819821f3",
   "metadata": {},
   "outputs": [],
   "source": [
    "# Placeholder for Scaler"
   ]
  },
  {
   "cell_type": "code",
   "execution_count": 3,
   "id": "d9977e78",
   "metadata": {},
   "outputs": [],
   "source": [
    "inertia = []\n",
    "k = list(range(1, 11))\n",
    "\n",
    "# Calculate the inertia for the range of K values\n",
    "for i in k:\n",
    "    km = KMeans(n_clusters=i, random_state=0)\n",
    "    km.fit(df)\n",
    "    inertia.append(km.inertia_)"
   ]
  },
  {
   "cell_type": "code",
   "execution_count": 4,
   "id": "444a1b59",
   "metadata": {},
   "outputs": [],
   "source": [
    "# Define a DataFrame to plot the Elbow Curve using hvPlot\n",
    "elbow_data = {\"k\": k, \"inertia\": inertia}\n",
    "df_elbow = pd.DataFrame(elbow_data)\n",
    "df_elbow.hvplot.line(x=\"k\", y=\"inertia\", title=\"Elbow Curve\", xticks=k)"
   ]
  },
  {
   "cell_type": "code",
   "execution_count": 5,
   "id": "15ac6a3c",
   "metadata": {},
   "outputs": [],
   "source": [
    "def get_clusters(k, data):\n",
    "    # Create a copy of the DataFrame\n",
    "    data = data.copy()\n",
    "\n",
    "    # Initialize the K-Means model\n",
    "    model = KMeans(n_clusters=k, random_state=0)\n",
    "\n",
    "    # Fit the model\n",
    "    model.fit(data)\n",
    "\n",
    "    # Predict clusters\n",
    "    predictions = model.predict(data)\n",
    "\n",
    "    # Create return DataFrame with predicted clusters\n",
    "    data[\"class\"] = model.labels_\n",
    "\n",
    "    return data"
   ]
  },
  {
   "cell_type": "code",
   "execution_count": 7,
   "id": "5db82906",
   "metadata": {},
   "outputs": [],
   "source": [
    "# Determine the number of clusters based on the \n",
    "five_clusters = get_clusters(5, df)\n",
    "five_clusters.head()"
   ]
  },
  {
   "cell_type": "code",
   "execution_count": 8,
   "id": "c8c13f64",
   "metadata": {},
   "outputs": [],
   "source": [
    "# Plotting the 2D-Scatter with x=\"<feature>\" and y=\"<feature>\"\n",
    "five_clusters.hvplot.scatter(x=\"<feature>\", y=\"<feature>\", by=\"class\")"
   ]
  },
  {
   "cell_type": "code",
   "execution_count": null,
   "id": "306314af",
   "metadata": {},
   "outputs": [],
   "source": [
    "# Plot the 3D-scatter with x=\"<feature>\", y=\"<feature>\" and z=\"<feature>\"\n",
    "fig = px.scatter_3d(\n",
    "    five_clusters,\n",
    "    x=\"<feature>\",\n",
    "    y=\"<feature>\",\n",
    "    z=\"<feature>\",\n",
    "    color=\"class\",\n",
    "    symbol=\"class\",\n",
    "    width=800,\n",
    ")\n",
    "fig.update_layout(legend=dict(x=0, y=1))\n",
    "fig.show()"
   ]
  }
 ],
 "metadata": {
  "kernelspec": {
   "display_name": "mlenv",
   "language": "python",
   "name": "mlenv"
  },
  "language_info": {
   "codemirror_mode": {
    "name": "ipython",
    "version": 3
   },
   "file_extension": ".py",
   "mimetype": "text/x-python",
   "name": "python",
   "nbconvert_exporter": "python",
   "pygments_lexer": "ipython3",
   "version": "3.7.11"
  }
 },
 "nbformat": 4,
 "nbformat_minor": 5
}
